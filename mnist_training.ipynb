{
  "nbformat": 4,
  "nbformat_minor": 0,
  "metadata": {
    "colab": {
      "provenance": [],
      "include_colab_link": true
    },
    "kernelspec": {
      "name": "python3",
      "display_name": "Python 3"
    },
    "language_info": {
      "name": "python"
    }
  },
  "cells": [
    {
      "cell_type": "markdown",
      "metadata": {
        "id": "view-in-github",
        "colab_type": "text"
      },
      "source": [
        "<a href=\"https://colab.research.google.com/github/michaeltsai25/shap_network_diagnosis/blob/main/mnist_training.ipynb\" target=\"_parent\"><img src=\"https://colab.research.google.com/assets/colab-badge.svg\" alt=\"Open In Colab\"/></a>"
      ]
    },
    {
      "cell_type": "code",
      "execution_count": null,
      "metadata": {
        "id": "0rq8SxYZrcer"
      },
      "outputs": [],
      "source": [
        "import torch\n",
        "import torch.nn as nn\n",
        "import torchvision.transforms as transforms\n",
        "import torchvision\n",
        "import torch.nn.functional as F\n",
        "from google.colab import files\n",
        "import pickle\n",
        "import joblib\n",
        "import numpy as np\n",
        "import matplotlib.pyplot as plt\n",
        "from random import randint"
      ]
    },
    {
      "cell_type": "code",
      "source": [
        "device = torch.device('cuda' if torch.cuda.is_available() else 'cpu')"
      ],
      "metadata": {
        "id": "HaFPKBvJ2h_P"
      },
      "execution_count": null,
      "outputs": []
    },
    {
      "cell_type": "code",
      "source": [
        "#set hyperparameters\n",
        "n_epochs = 4\n",
        "batch_size = 4\n",
        "learning_rate = 0.001\n",
        "\n",
        "#normalize dataset\n",
        "transform = transforms.Compose([transforms.ToTensor(),\n",
        "  transforms.Normalize((0.5,), (0.5,))\n",
        "])"
      ],
      "metadata": {
        "id": "g_lEMtE02xWa"
      },
      "execution_count": null,
      "outputs": []
    },
    {
      "cell_type": "code",
      "source": [
        "num = 0\n",
        "\n",
        "# set training and testing datasets\n",
        "train_dataset = torchvision.datasets.MNIST(root='./data', train=True,\n",
        "                                           download=True, transform=transform)\n",
        "\n",
        "#selecting only classes 0 and 1, change for future experiments\n",
        "idx = (train_dataset.targets == num) | (train_dataset.targets == num+1) #change\n",
        "train_dataset.targets = train_dataset.targets[idx]\n",
        "train_dataset.data = train_dataset.data[idx]\n",
        "\n",
        "test_dataset = torchvision.datasets.MNIST(root='./data', train=False,\n",
        "                                           download=True, transform=transform)\n",
        "\n",
        "#selecting classes 0 and 1 for the test dataset\n",
        "idx = (test_dataset.targets == num) | (test_dataset.targets == num+1) #change\n",
        "test_dataset.targets = test_dataset.targets[idx]\n",
        "test_dataset.data = test_dataset.data[idx]\n",
        "\n",
        "train_loader = torch.utils.data.DataLoader(train_dataset, batch_size=batch_size,\n",
        "                                           shuffle=True)\n",
        "\n",
        "test_loader_1 = torch.utils.data.DataLoader(test_dataset, batch_size=batch_size,\n",
        "                                           shuffle=True)\n",
        "\n",
        "#set classes (only training model to recognize zero or one for now)\n",
        "classes = (str(num), str(num+1)) #change"
      ],
      "metadata": {
        "id": "UHEkJwNz4gyn",
        "colab": {
          "base_uri": "https://localhost:8080/"
        },
        "outputId": "f6380fe4-0783-4e3e-d6b9-904642d989cc"
      },
      "execution_count": null,
      "outputs": [
        {
          "output_type": "stream",
          "name": "stdout",
          "text": [
            "Downloading http://yann.lecun.com/exdb/mnist/train-images-idx3-ubyte.gz\n",
            "Downloading http://yann.lecun.com/exdb/mnist/train-images-idx3-ubyte.gz to ./data/MNIST/raw/train-images-idx3-ubyte.gz\n"
          ]
        },
        {
          "output_type": "stream",
          "name": "stderr",
          "text": [
            "100%|██████████| 9912422/9912422 [00:00<00:00, 156172262.64it/s]\n"
          ]
        },
        {
          "output_type": "stream",
          "name": "stdout",
          "text": [
            "Extracting ./data/MNIST/raw/train-images-idx3-ubyte.gz to ./data/MNIST/raw\n",
            "\n",
            "Downloading http://yann.lecun.com/exdb/mnist/train-labels-idx1-ubyte.gz\n",
            "Downloading http://yann.lecun.com/exdb/mnist/train-labels-idx1-ubyte.gz to ./data/MNIST/raw/train-labels-idx1-ubyte.gz\n"
          ]
        },
        {
          "output_type": "stream",
          "name": "stderr",
          "text": [
            "100%|██████████| 28881/28881 [00:00<00:00, 96831090.19it/s]\n"
          ]
        },
        {
          "output_type": "stream",
          "name": "stdout",
          "text": [
            "Extracting ./data/MNIST/raw/train-labels-idx1-ubyte.gz to ./data/MNIST/raw\n",
            "\n",
            "Downloading http://yann.lecun.com/exdb/mnist/t10k-images-idx3-ubyte.gz\n",
            "Downloading http://yann.lecun.com/exdb/mnist/t10k-images-idx3-ubyte.gz to ./data/MNIST/raw/t10k-images-idx3-ubyte.gz\n"
          ]
        },
        {
          "output_type": "stream",
          "name": "stderr",
          "text": [
            "100%|██████████| 1648877/1648877 [00:00<00:00, 139604985.90it/s]"
          ]
        },
        {
          "output_type": "stream",
          "name": "stdout",
          "text": [
            "Extracting ./data/MNIST/raw/t10k-images-idx3-ubyte.gz to ./data/MNIST/raw\n"
          ]
        },
        {
          "output_type": "stream",
          "name": "stderr",
          "text": [
            "\n"
          ]
        },
        {
          "output_type": "stream",
          "name": "stdout",
          "text": [
            "\n",
            "Downloading http://yann.lecun.com/exdb/mnist/t10k-labels-idx1-ubyte.gz\n",
            "Downloading http://yann.lecun.com/exdb/mnist/t10k-labels-idx1-ubyte.gz to ./data/MNIST/raw/t10k-labels-idx1-ubyte.gz\n"
          ]
        },
        {
          "output_type": "stream",
          "name": "stderr",
          "text": [
            "100%|██████████| 4542/4542 [00:00<00:00, 16394603.07it/s]"
          ]
        },
        {
          "output_type": "stream",
          "name": "stdout",
          "text": [
            "Extracting ./data/MNIST/raw/t10k-labels-idx1-ubyte.gz to ./data/MNIST/raw\n",
            "\n"
          ]
        },
        {
          "output_type": "stream",
          "name": "stderr",
          "text": [
            "\n"
          ]
        }
      ]
    },
    {
      "cell_type": "code",
      "source": [
        "len(train_loader)"
      ],
      "metadata": {
        "colab": {
          "base_uri": "https://localhost:8080/"
        },
        "id": "Bynr1QyRDHPN",
        "outputId": "c2c85470-9b70-4a12-91c2-4f1c536c60e9"
      },
      "execution_count": null,
      "outputs": [
        {
          "output_type": "execute_result",
          "data": {
            "text/plain": [
              "3167"
            ]
          },
          "metadata": {},
          "execution_count": 5
        }
      ]
    },
    {
      "cell_type": "code",
      "source": [
        "#initialize model\n",
        "class ConvNet(nn.Module):\n",
        "  def __init__(self):\n",
        "    super(ConvNet, self).__init__()\n",
        "    self.conv1 = nn.Conv2d(1, 6, 5)\n",
        "    self.pool = nn.MaxPool2d(2, 2)\n",
        "    self.conv2 = nn.Conv2d(6, 16, 5)\n",
        "    self.fc1 = nn.Linear(16*4*4, 120)\n",
        "    self.fc2 = nn.Linear(120, 84)\n",
        "    self.fc3 = nn.Linear(84, 10)\n",
        "\n",
        "  def forward(self, x):\n",
        "    x = self.pool(F.relu(self.conv1(x)))\n",
        "    x = self.pool(F.relu(self.conv2(x)))\n",
        "    x = x.view(-1, 16*4*4)\n",
        "    x = F.relu(self.fc1(x))\n",
        "    x = F.relu(self.fc2(x))\n",
        "    x = self.fc3(x)\n",
        "    return x"
      ],
      "metadata": {
        "id": "PppbcvyA3EpX"
      },
      "execution_count": null,
      "outputs": []
    },
    {
      "cell_type": "code",
      "source": [
        "model = ConvNet().to(device)\n",
        "\n",
        "criterion = nn.CrossEntropyLoss()\n",
        "optimizer = torch.optim.SGD(model.parameters(), lr=learning_rate, weight_decay=0.001)\n",
        "\n",
        "n_total_steps = len(train_loader)"
      ],
      "metadata": {
        "id": "ed9wu7hu6YPi"
      },
      "execution_count": null,
      "outputs": []
    },
    {
      "cell_type": "code",
      "source": [
        "#testing to debug\n",
        "im = train_dataset[0][0]\n",
        "conv1 = nn.Conv2d(1, 6, 5)\n",
        "pool = nn.MaxPool2d(2, 2)\n",
        "conv2 = nn.Conv2d(6, 16, 5)\n",
        "print(im.shape)\n",
        "x = conv1(im)\n",
        "print(x.shape)\n",
        "x = pool(x)\n",
        "print(x.shape)\n",
        "x = conv2(x)\n",
        "print(x.shape)\n",
        "x = pool(x)\n",
        "print(x.shape)"
      ],
      "metadata": {
        "colab": {
          "base_uri": "https://localhost:8080/"
        },
        "id": "f0aM6GnDRgrF",
        "outputId": "0218c900-5d32-4d6c-ff43-397a712fc48d"
      },
      "execution_count": null,
      "outputs": [
        {
          "output_type": "stream",
          "name": "stdout",
          "text": [
            "torch.Size([1, 28, 28])\n",
            "torch.Size([6, 24, 24])\n",
            "torch.Size([6, 12, 12])\n",
            "torch.Size([16, 8, 8])\n",
            "torch.Size([16, 4, 4])\n"
          ]
        }
      ]
    },
    {
      "cell_type": "code",
      "source": [
        "#training loop\n",
        "for epoch in range(n_epochs):\n",
        "  for i, (images, labels) in enumerate(train_loader):\n",
        "    images = images.to(device)\n",
        "    labels = labels.to(device)\n",
        "    labels -= num #change for different experiments\n",
        "    #forward pass\n",
        "    outputs = model(images)\n",
        "    loss = criterion(outputs, labels)\n",
        "\n",
        "    #backward pass\n",
        "    optimizer.zero_grad()\n",
        "    loss.backward()\n",
        "    optimizer.step()\n",
        "\n",
        "    if (i+1) % 2000 == 0:\n",
        "      print(f'Epoch [{epoch+1}/{n_epochs}], Step [{i+1}], Loss: {loss.item():.4f}')\n",
        "\n",
        "print('Finished Training')"
      ],
      "metadata": {
        "colab": {
          "base_uri": "https://localhost:8080/"
        },
        "id": "kBfMJz0L63Ii",
        "outputId": "e3388fba-29fa-467d-c8cf-bc83209130c7"
      },
      "execution_count": null,
      "outputs": [
        {
          "output_type": "stream",
          "name": "stdout",
          "text": [
            "Epoch [1/4], Step [2000], Loss: 0.0579\n",
            "Epoch [2/4], Step [2000], Loss: 0.0005\n",
            "Epoch [3/4], Step [2000], Loss: 0.0135\n",
            "Epoch [4/4], Step [2000], Loss: 0.0003\n",
            "Finished Training\n"
          ]
        }
      ]
    },
    {
      "cell_type": "code",
      "source": [
        "import numpy as np\n",
        "with torch.no_grad():\n",
        "  n_correct = 0\n",
        "  n_samples = 0\n",
        "  n_class_correct = [0 for i in range(10)]\n",
        "  n_class_samples = [0 for i in range(10)]\n",
        "  predicted_cat = {0: [], 1: []}\n",
        "  for images, labels in test_loader_1:\n",
        "    images = images.to(device)\n",
        "    labels = labels.to(device)\n",
        "    labels -= num #change for different experiments\n",
        "    outputs = model(images)\n",
        "\n",
        "    _, predicted = torch.max(outputs, 1)\n",
        "    np_p = predicted.numpy()\n",
        "    np_l = labels.numpy()\n",
        "    # for l, p in zip(np_l, np_p):\n",
        "    #   predicted_cat[l].append(p)\n",
        "    n_samples += labels.size(0)\n",
        "    n_correct += (predicted == labels).sum().item()\n",
        "\n",
        "    size = labels.shape[0]\n",
        "    for i in range(size):\n",
        "      label = labels[i]\n",
        "      pred = predicted[i]\n",
        "      if (label==pred):\n",
        "        n_class_correct[label] += 1\n",
        "      n_class_samples[label] += 1\n",
        "\n",
        "  '''\n",
        "  tot_1 = np.unique(predicted_cat[0], return_counts=True)\n",
        "  print(tot_1)\n",
        "  tot_1 = tot_1[1].tolist()\n",
        "  count, idx = max(tot_1), tot_1.index(max(tot_1))\n",
        "\n",
        "  tot_2 = np.unique(predicted_cat[1], return_counts=True)\n",
        "  print(tot_2)\n",
        "  #tot_2 = tot_2[1].tolist()\n",
        "  if idx == 0:\n",
        "    count += tot_2[1]\n",
        "  else:\n",
        "    count += tot_2[0]\n",
        "\n",
        "  acc = 100.0 * count / n_samples\n",
        "  '''\n",
        "  acc = 100.0 * n_correct / n_samples\n",
        "  print(f'Accuracy of the network: {acc}%')\n",
        "\n",
        "  for i in range(2):\n",
        "    acc = 100.0 * n_class_correct[i] / n_class_samples[i]\n",
        "    print(f'Accuracy of {classes[i]}: {acc}%')"
      ],
      "metadata": {
        "colab": {
          "base_uri": "https://localhost:8080/"
        },
        "id": "KFv7lbIt-lML",
        "outputId": "f6f9e42f-085a-48b2-f4da-00946d89b569"
      },
      "execution_count": null,
      "outputs": [
        {
          "output_type": "stream",
          "name": "stdout",
          "text": [
            "Accuracy of the network: 99.76359338061465%\n",
            "Accuracy of 0: 99.6938775510204%\n",
            "Accuracy of 1: 99.8237885462555%\n"
          ]
        }
      ]
    },
    {
      "cell_type": "code",
      "source": [
        "print(np.unique(predicted_cat[0], return_counts=True), np.unique(predicted_cat[1], return_counts=True))"
      ],
      "metadata": {
        "id": "VrrXzkblZhIG",
        "colab": {
          "base_uri": "https://localhost:8080/"
        },
        "outputId": "581129c9-ed40-45a6-a5ec-dcd337dfffda"
      },
      "execution_count": null,
      "outputs": [
        {
          "output_type": "stream",
          "name": "stdout",
          "text": [
            "(array([], dtype=float64), array([], dtype=int64)) (array([], dtype=float64), array([], dtype=int64))\n"
          ]
        }
      ]
    },
    {
      "cell_type": "code",
      "source": [
        "\n",
        "\n",
        "#model.fc3 = nn.Linear(84, 9)\n",
        "model.to(device)"
      ],
      "metadata": {
        "colab": {
          "base_uri": "https://localhost:8080/"
        },
        "id": "X386qmAR70XU",
        "outputId": "5172b939-96bf-4b1c-adb9-f612cd70ad9b"
      },
      "execution_count": null,
      "outputs": [
        {
          "output_type": "execute_result",
          "data": {
            "text/plain": [
              "ConvNet(\n",
              "  (conv1): Conv2d(1, 6, kernel_size=(5, 5), stride=(1, 1))\n",
              "  (pool): MaxPool2d(kernel_size=2, stride=2, padding=0, dilation=1, ceil_mode=False)\n",
              "  (conv2): Conv2d(6, 16, kernel_size=(5, 5), stride=(1, 1))\n",
              "  (fc1): Linear(in_features=256, out_features=120, bias=True)\n",
              "  (fc2): Linear(in_features=120, out_features=84, bias=True)\n",
              "  (fc3): Linear(in_features=84, out_features=10, bias=True)\n",
              ")"
            ]
          },
          "metadata": {},
          "execution_count": 12
        }
      ]
    },
    {
      "cell_type": "markdown",
      "source": [
        "## Zero-shot transferring"
      ],
      "metadata": {
        "id": "8Ki2EoS7LbZU"
      }
    },
    {
      "cell_type": "code",
      "source": [
        "import numpy as np\n",
        "\n",
        "def test(num1, classes=None, n_digits=2, batch_size=4):\n",
        "  # set training and testing datasets\n",
        "  train_dataset = torchvision.datasets.MNIST(root='./data', train=True,\n",
        "                                            download=True, transform=transform)\n",
        "  if n_digits != 10:\n",
        "    #selecting only classes 0 and 1, change for future experiments\n",
        "    idx = (train_dataset.targets == num1) | (train_dataset.targets == num1+1)\n",
        "    train_dataset.targets = train_dataset.targets[idx]\n",
        "    train_dataset.data = train_dataset.data[idx]\n",
        "\n",
        "  test_dataset = torchvision.datasets.MNIST(root='./data', train=False,\n",
        "                                            download=True, transform=transform)\n",
        "\n",
        "  if n_digits != 10:\n",
        "    #selecting classes 0 and 1 for the test dataset\n",
        "    idx = (test_dataset.targets == num1) | (test_dataset.targets == num1+1)\n",
        "    test_dataset.targets = test_dataset.targets[idx]\n",
        "    test_dataset.data = test_dataset.data[idx]\n",
        "\n",
        "  train_loader = torch.utils.data.DataLoader(train_dataset, batch_size=batch_size,\n",
        "                                            shuffle=True)\n",
        "\n",
        "  test_loader = torch.utils.data.DataLoader(test_dataset, batch_size=batch_size,\n",
        "                                            shuffle=True)\n",
        "\n",
        "  #set classes (only training model to recognize zero or one for now)\n",
        "  if (classes is None):\n",
        "    classes = (str(num1), str(num1+1))\n",
        "\n",
        "  with torch.no_grad():\n",
        "    n_correct = 0\n",
        "    n_samples = 0\n",
        "    n_class_correct = [0 for i in range(n_digits)]\n",
        "    n_class_samples = [0 for i in range(n_digits)]\n",
        "    predicted_cat = {0: [], 1: []}\n",
        "    for images, labels in test_loader:\n",
        "      images = images.to(device)\n",
        "      labels = labels.to(device)\n",
        "      # labels -= num1 #change for different experiments\n",
        "      outputs = model(images)\n",
        "\n",
        "      _, predicted = torch.max(outputs, 1)\n",
        "      # print(f'predicted: {predicted}')\n",
        "      # print(f'labels: {labels}')\n",
        "      '''\n",
        "      np_p = predicted.numpy()\n",
        "      np_l = labels.numpy()\n",
        "      for l, p in zip(np_l, np_p):\n",
        "        predicted_cat[l].append(p)\n",
        "      '''\n",
        "      n_samples += labels.size(0)\n",
        "      n_correct += (predicted == labels).sum().item()\n",
        "\n",
        "      size = labels.shape[0]\n",
        "      for i in range(size):\n",
        "        label = labels[i]\n",
        "        pred = predicted[i]\n",
        "        if (label==pred):\n",
        "          n_class_correct[label - num1] += 1\n",
        "        n_class_samples[label - num1] += 1\n",
        "\n",
        "    '''\n",
        "    tot_1 = np.unique(predicted_cat[0], return_counts=True)\n",
        "    print(tot_1)\n",
        "    tot_1 = tot_1[1].tolist()\n",
        "\n",
        "    count, idx = max(tot_1), tot_1.index(max(tot_1))\n",
        "\n",
        "    tot_2 = np.unique(predicted_cat[1], return_counts=True)\n",
        "    tot_2 = tot_2[1].tolist()\n",
        "    if idx == 0 and len(tot_2) != 1:\n",
        "      #print(tot_1)\n",
        "      count += tot_2[1]\n",
        "    else:\n",
        "      count += tot_2[0]\n",
        "\n",
        "    total_acc = 100.0 * count / n_samples\n",
        "    #total_acc = 100.0 * n_correct / n_samples\n",
        "    print(f'Accuracy of the network: {total_acc}%')\n",
        "    '''\n",
        "    total_acc = 100.0 * n_correct / n_samples\n",
        "    for i in range(n_digits):\n",
        "      if n_class_samples[i] != 0:\n",
        "        acc = 100.0 * n_class_correct[i] / n_class_samples[i]\n",
        "      else:\n",
        "        acc = 0\n",
        "      print(f'Accuracy of {classes[i]}: {acc}%')\n",
        "    return total_acc\n",
        "\n",
        "#test(0)"
      ],
      "metadata": {
        "id": "j-pVy9GpMUpb"
      },
      "execution_count": null,
      "outputs": []
    },
    {
      "cell_type": "code",
      "source": [
        "def training_loop(images, labels):\n",
        "  images = images.to(device)\n",
        "  labels = labels.to(device)\n",
        "  # labels -= num1 #change for different experiments\n",
        "  #forward pass\n",
        "  outputs = model(images)\n",
        "  loss = criterion(outputs, labels)\n",
        "\n",
        "  #backward pass\n",
        "  optimizer.zero_grad()\n",
        "  loss.backward()\n",
        "  optimizer.step()\n",
        "\n",
        "  return loss"
      ],
      "metadata": {
        "id": "sB9Bsg6VB_h-"
      },
      "execution_count": null,
      "outputs": []
    },
    {
      "cell_type": "code",
      "source": [
        "def train(num1, select_all=False, n_epochs=4, batch_size=4, learning_rate=0.001, exp_replay=False):\n",
        "  # set training and testing datasets\n",
        "  train_dataset = torchvision.datasets.MNIST(root='./data', train=True,\n",
        "                                            download=True, transform=transform)\n",
        "\n",
        "  # if exp_replay:\n",
        "  #   td2 = train_dataset\n",
        "  #   idx = (td2.targets == num1) | (td2.targets == num1+1)\n",
        "  #   td2.targets = td2.targets[idx]\n",
        "  #   td2.data = td2.data[idx]\n",
        "  if exp_replay:\n",
        "    td2 = torchvision.datasets.MNIST(root='./data', train=True,\n",
        "                                            download=True, transform=transform)\n",
        "    indices = []\n",
        "    for i in range(num1):\n",
        "      if len(indices) == 0:\n",
        "        indices = (td2.targets == i).numpy()\n",
        "      else:\n",
        "        indices = np.logical_or(indices, (td2.targets == i).numpy())\n",
        "    td2.targets = td2.targets[indices][:500]\n",
        "    td2.data = td2.data[indices][:500]\n",
        "\n",
        "    tl2 = torch.utils.data.DataLoader(td2, batch_size=batch_size,\n",
        "                                              shuffle=True)\n",
        "\n",
        "  if select_all == False:\n",
        "    #selecting only classes 0 and 1, change for future experiments\n",
        "    idx = (train_dataset.targets == num1) | (train_dataset.targets == num1+1)\n",
        "    train_dataset.targets = train_dataset.targets[idx]\n",
        "    train_dataset.data = train_dataset.data[idx]\n",
        "\n",
        "    #set classes (only training model to recognize zero or one for now)\n",
        "    classes = (str(num1), str(num1+1))\n",
        "\n",
        "  else:\n",
        "    classes = tuple([str(i) for i in range(10)])\n",
        "\n",
        "  train_loader = torch.utils.data.DataLoader(train_dataset, batch_size=batch_size,\n",
        "                                              shuffle=True)\n",
        "\n",
        "  optimizer = torch.optim.SGD(model.parameters(), lr=learning_rate, weight_decay=0.001)\n",
        "\n",
        "  #training loop\n",
        "  for epoch in range(n_epochs):\n",
        "    for i, (images, labels) in enumerate(train_loader):\n",
        "      #print(f\"outer loop {i}\")\n",
        "      #print(labels)\n",
        "      loss = training_loop(images, labels)\n",
        "\n",
        "      if exp_replay:\n",
        "        '''\n",
        "        im, lab = td2[randint(0, 3167)]\n",
        "        lab = torch.tensor(lab, dtype=torch.int8)\n",
        "        print(lab)\n",
        "        '''\n",
        "        for idx in range(2):\n",
        "          #print(f\"inner loop {idx}\")\n",
        "          im, lab = next(iter(tl2))\n",
        "          training_loop(im, lab)\n",
        "\n",
        "      #print(f\"outer loop {i}\")\n",
        "\n",
        "      if (i+1) % 200 == 0:\n",
        "        print(f'Epoch [{epoch+1}/{n_epochs}], Step [{i+1}], Loss: {loss.item():.4f}')\n",
        "        break\n",
        "\n",
        "  print('Finished Training')"
      ],
      "metadata": {
        "id": "Qz4vbLszKMGp"
      },
      "execution_count": null,
      "outputs": []
    },
    {
      "cell_type": "code",
      "source": [
        "x = 1\n",
        "classes = [f\"({str(i)}, {str(i+1)})\" for i in range(0, 10, 2)]\n",
        "\n",
        "for i in range(2, 10, 2):\n",
        "  train(i, n_epochs=2, batch_size=4, learning_rate=0.001, exp_replay=True)\n",
        "  acc_list = []\n",
        "  for j in range(0, 10, 2):\n",
        "    acc_list.append(test(j))\n",
        "\n",
        "  fig = plt.figure(figsize=(10, 5))\n",
        "  bars = plt.bar(classes, acc_list, width = 0.4)\n",
        "  bars[x].set_color('red') #change\n",
        "  plt.xlabel(\"Classes\")\n",
        "  plt.ylabel(\"Accuracy (%)\")\n",
        "  plt.title(\"Zero-Shot Transfer Accuracy for Different Digits\")\n",
        "  plt.ylim(0, 100)\n",
        "  plt.show()\n",
        "  x = x+1"
      ],
      "metadata": {
        "colab": {
          "base_uri": "https://localhost:8080/",
          "height": 1000
        },
        "id": "lWZ1MK7gYh3Y",
        "outputId": "220b328d-4d22-4401-8edd-cef1cac0c1ac"
      },
      "execution_count": null,
      "outputs": [
        {
          "output_type": "stream",
          "name": "stdout",
          "text": [
            "Epoch [1/2], Step [200], Loss: 0.8805\n",
            "Epoch [2/2], Step [200], Loss: 0.6999\n",
            "Finished Training\n",
            "Accuracy of 0: 98.26530612244898%\n",
            "Accuracy of 1: 99.20704845814979%\n",
            "Accuracy of 2: 70.73643410852713%\n",
            "Accuracy of 3: 85.04950495049505%\n",
            "Accuracy of 4: 0.0%\n",
            "Accuracy of 5: 0.0%\n",
            "Accuracy of 6: 0.0%\n",
            "Accuracy of 7: 0.0%\n",
            "Accuracy of 8: 0.0%\n",
            "Accuracy of 9: 0.0%\n"
          ]
        },
        {
          "output_type": "display_data",
          "data": {
            "text/plain": [
              "<Figure size 1000x500 with 1 Axes>"
            ],
            "image/png": "[encoded data removed]"
          },
          "metadata": {}
        },
        {
          "output_type": "stream",
          "name": "stdout",
          "text": [
            "Epoch [1/2], Step [200], Loss: 1.4640\n",
            "Epoch [2/2], Step [200], Loss: 1.3028\n",
            "Finished Training\n",
            "Accuracy of 0: 94.6938775510204%\n",
            "Accuracy of 1: 98.59030837004406%\n",
            "Accuracy of 2: 80.03875968992249%\n",
            "Accuracy of 3: 72.77227722772277%\n",
            "Accuracy of 4: 84.21588594704684%\n",
            "Accuracy of 5: 74.55156950672645%\n",
            "Accuracy of 6: 0.0%\n",
            "Accuracy of 7: 0.0%\n",
            "Accuracy of 8: 0.0%\n",
            "Accuracy of 9: 0.0%\n"
          ]
        },
        {
          "output_type": "display_data",
          "data": {
            "text/plain": [
              "<Figure size 1000x500 with 1 Axes>"
            ],
            "image/png": "[encoded data removed]"
          },
          "metadata": {}
        },
        {
          "output_type": "stream",
          "name": "stdout",
          "text": [
            "Epoch [1/2], Step [200], Loss: 1.0328\n",
            "Epoch [2/2], Step [200], Loss: 0.4862\n",
            "Finished Training\n",
            "Accuracy of 0: 90.3061224489796%\n",
            "Accuracy of 1: 97.5330396475771%\n",
            "Accuracy of 2: 80.23255813953489%\n",
            "Accuracy of 3: 80.0%\n",
            "Accuracy of 4: 81.9755600814664%\n",
            "Accuracy of 5: 80.4932735426009%\n",
            "Accuracy of 6: 84.44676409185804%\n",
            "Accuracy of 7: 85.70038910505836%\n",
            "Accuracy of 8: 0.0%\n",
            "Accuracy of 9: 0.0%\n"
          ]
        },
        {
          "output_type": "display_data",
          "data": {
            "text/plain": [
              "<Figure size 1000x500 with 1 Axes>"
            ],
            "image/png": "[encoded data removed]"
          },
          "metadata": {}
        },
        {
          "output_type": "stream",
          "name": "stdout",
          "text": [
            "Epoch [1/2], Step [200], Loss: 0.6921\n",
            "Epoch [2/2], Step [200], Loss: 0.6733\n",
            "Finished Training\n",
            "Accuracy of 0: 94.28571428571429%\n",
            "Accuracy of 1: 96.82819383259911%\n",
            "Accuracy of 2: 87.59689922480621%\n",
            "Accuracy of 3: 69.4059405940594%\n",
            "Accuracy of 4: 76.57841140529531%\n",
            "Accuracy of 5: 76.12107623318386%\n",
            "Accuracy of 6: 85.28183716075156%\n",
            "Accuracy of 7: 78.11284046692607%\n",
            "Accuracy of 8: 78.95277207392198%\n",
            "Accuracy of 9: 83.44895936570862%\n"
          ]
        },
        {
          "output_type": "display_data",
          "data": {
            "text/plain": [
              "<Figure size 1000x500 with 1 Axes>"
            ],
            "image/png": "[encoded data removed]"
          },
          "metadata": {}
        }
      ]
    }
  ]
}